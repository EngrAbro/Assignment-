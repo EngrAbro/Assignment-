{
 "cells": [
  {
   "cell_type": "markdown",
   "metadata": {},
   "source": [
    "# Assignment: Compresive Strength Concrete Problem\n",
    "\n",
    "\n",
    "### Abstract: \n",
    "\n",
    "Concrete is the most important material in civil engineering. The concrete compressive strength (concrete strength to bear the load) is a highly nonlinear function of age and ingredients.  <br><br>\n",
    "\n",
    "<table border=\"1\"  cellpadding=\"6\" bordercolor=\"red\">\n",
    "\t<tbody>\n",
    "        <tr>\n",
    "\t\t<td bgcolor=\"#DDEEFF\"><p class=\"normal\"><b>Data Set Characteristics:&nbsp;&nbsp;</b></p></td>\n",
    "\t\t<td><p class=\"normal\">Multivariate</p></td>\n",
    "\t\t<td bgcolor=\"#DDEEFF\"><p class=\"normal\"><b>Number of Instances:</b></p></td>\n",
    "\t\t<td><p class=\"normal\">1030</p></td>\n",
    "\t\t<td bgcolor=\"#DDEEFF\"><p class=\"normal\"><b>Area:</b></p></td>\n",
    "\t\t<td><p class=\"normal\">Physical</p></td>\n",
    "        </tr>\n",
    "     </tbody>\n",
    "    </table>\n",
    "<table border=\"1\" cellpadding=\"6\">\n",
    "    <tbody>\n",
    "        <tr>\n",
    "            <td bgcolor=\"#DDEEFF\"><p class=\"normal\"><b>Attribute Characteristics:</b></p></td>\n",
    "            <td><p class=\"normal\">Real</p></td>\n",
    "            <td bgcolor=\"#DDEEFF\"><p class=\"normal\"><b>Number of Attributes:</b></p></td>\n",
    "            <td><p class=\"normal\">9</p></td>\n",
    "            <td bgcolor=\"#DDEEFF\"><p class=\"normal\"><b>Date Donated</b></p></td>\n",
    "            <td><p class=\"normal\">2007-08-03</p></td>\n",
    "        </tr>\n",
    "     </tbody>\n",
    "    </table>\n",
    "<table border=\"1\" cellpadding=\"6\">\t\n",
    "    <tbody>\n",
    "    <tr>\n",
    "\t\t<td bgcolor=\"#DDEEFF\"><p class=\"normal\"><b>Associated Tasks:</b></p></td>\n",
    "\t\t<td><p class=\"normal\">Regression</p></td>\n",
    "\t\t<td bgcolor=\"#DDEEFF\"><p class=\"normal\"><b>Missing Values?</b></p></td>\n",
    "\t\t<td><p class=\"normal\">N/A</p></td>\n",
    "\t\t<td bgcolor=\"#DDEEFF\"><p class=\"normal\"><b>Number of Web Hits:</b></p></td>\n",
    "\t\t<td><p class=\"normal\">231464</p></td>\n",
    "\t</tr>\n",
    "    </tbody>\n",
    "    </table>"
   ]
  },
  {
   "cell_type": "markdown",
   "metadata": {},
   "source": [
    "###  Description:\n",
    "| Features Name | Data Type | Measurement | Description |\n",
    "| -- | -- | -- | -- |\n",
    "Cement (component 1) | quantitative | kg in a m3 mixture | Input Variable\n",
    "Blast Furnace Slag (component 2) | quantitative | kg in a m3 mixture | Input Variable\n",
    "Fly Ash (component 3) | quantitative | kg in a m3 mixture | Input Variable\n",
    "Water (component 4) | quantitative | kg in a m3 mixture | Input Variable\n",
    "Superplasticizer (component 5) | quantitative | kg in a m3 mixture | Input Variable\n",
    "Coarse Aggregate (component 6) | quantitative | kg in a m3 mixture | Input Variable\n",
    "Fine Aggregate (component 7) | quantitative | kg in a m3 mixture | Input Variable\n",
    "Age | quantitative | Day (1~365) | Input Variable\n",
    "Concrete compressive strength | quantitative | MPa | Output Variable\n",
    "\n",
    "### WORKFLOW :\n",
    "- Load Data\n",
    "- Check Missing Values ( If Exist ; Fill each record with mean of its feature )\n",
    "- Standardized the Input Variables. **Hint**: Centeralized the data\n",
    "- Split into 50% Training(Samples,Labels) , 30% Test(Samples,Labels) and 20% Validation Data(Samples,Labels).\n",
    "- Model : input Layer (No. of features ), 3 hidden layers including 10,8,6 unit & Output Layer with activation function relu/tanh (check by experiment).\n",
    "- Compilation Step (Note : Its a Regression problem , select loss , metrics according to it)\n",
    "- Train the Model with Epochs (100) and validate it\n",
    "- If the model gets overfit tune your model by changing the units , No. of layers , activation function , epochs , add dropout layer or add Regularizer according to the need .\n",
    "- Evaluation Step\n",
    "- Prediction\n"
   ]
  },
  {
   "cell_type": "markdown",
   "metadata": {},
   "source": [
    "# Load Data:\n",
    "[Click Here to Download DataSet](https://github.com/ramsha275/ML_Datasets/blob/main/compresive_strength_concrete.csv)"
   ]
  },
  {
   "cell_type": "code",
   "execution_count": 102,
   "metadata": {},
   "outputs": [],
   "source": [
    "import numpy as np\n",
    "import pandas as pd\n",
    "import tensorflow as tf\n",
    "import seaborn as sns  ###\n",
    "import matplotlib.pyplot as plt\n",
    "from tensorflow.keras.models import Sequential\n",
    "from tensorflow.keras.layers import Dense \n",
    "from tensorflow.keras.optimizers import Adam, SGD\n",
    "\n",
    "from sklearn.model_selection import train_test_split\n",
    "\n",
    "data1 = pd.read_csv(\"concrete.csv\")\n",
    "data = data1.copy()"
   ]
  },
  {
   "cell_type": "code",
   "execution_count": 100,
   "metadata": {},
   "outputs": [
    {
     "data": {
      "text/plain": [
       "Cement (component 1)(kg in a m^3 mixture)                False\n",
       "Blast Furnace Slag (component 2)(kg in a m^3 mixture)    False\n",
       "Fly Ash (component 3)(kg in a m^3 mixture)               False\n",
       "Water  (component 4)(kg in a m^3 mixture)                False\n",
       "Superplasticizer (component 5)(kg in a m^3 mixture)      False\n",
       "Coarse Aggregate  (component 6)(kg in a m^3 mixture)     False\n",
       "Fine Aggregate (component 7)(kg in a m^3 mixture)        False\n",
       "Age (day)                                                False\n",
       "Concrete compressive strength(MPa, megapascals)          False\n",
       "dtype: bool"
      ]
     },
     "execution_count": 100,
     "metadata": {},
     "output_type": "execute_result"
    }
   ],
   "source": [
    "# credit.isnull().sum()\n",
    "data.isnull().any()"
   ]
  },
  {
   "cell_type": "code",
   "execution_count": 101,
   "metadata": {},
   "outputs": [
    {
     "data": {
      "text/plain": [
       "Cement (component 1)(kg in a m^3 mixture)                float64\n",
       "Blast Furnace Slag (component 2)(kg in a m^3 mixture)    float64\n",
       "Fly Ash (component 3)(kg in a m^3 mixture)               float64\n",
       "Water  (component 4)(kg in a m^3 mixture)                float64\n",
       "Superplasticizer (component 5)(kg in a m^3 mixture)      float64\n",
       "Coarse Aggregate  (component 6)(kg in a m^3 mixture)     float64\n",
       "Fine Aggregate (component 7)(kg in a m^3 mixture)        float64\n",
       "Age (day)                                                  int64\n",
       "Concrete compressive strength(MPa, megapascals)          float64\n",
       "dtype: object"
      ]
     },
     "execution_count": 101,
     "metadata": {},
     "output_type": "execute_result"
    }
   ],
   "source": [
    "data.dtypes"
   ]
  },
  {
   "cell_type": "code",
   "execution_count": 120,
   "metadata": {},
   "outputs": [],
   "source": [
    "x = data.iloc[:,0:-1]\n",
    "y = data.iloc[:,-1:]\n",
    "\n",
    "x_tr, x_val, y_tr, y_val = train_test_split(x, y, test_size=0.2, random_state=0)\n",
    "x_train, x_test, y_train, y_test = train_test_split(x_tr, y_tr, test_size=0.3, random_state=0)"
   ]
  },
  {
   "cell_type": "code",
   "execution_count": 123,
   "metadata": {},
   "outputs": [
    {
     "name": "stdout",
     "output_type": "stream",
     "text": [
      "train-data (576, 8)\n",
      "test-data (206, 8)\n",
      "test-data (248, 8)\n",
      "\n",
      "train-labels (576, 1)\n",
      "train-labels (206, 1)\n",
      "test-labels (248, 1)\n"
     ]
    }
   ],
   "source": [
    "print('train-data',x_train.shape)\n",
    "print('test-data',x_val.shape)\n",
    "print('test-data',x_test.shape)\n",
    "print()\n",
    "print('train-labels',y_train.shape)\n",
    "print('train-labels',y_val.shape)\n",
    "print('test-labels',y_test.shape)"
   ]
  },
  {
   "cell_type": "code",
   "execution_count": 124,
   "metadata": {},
   "outputs": [],
   "source": [
    "########## Normalization of independent\n",
    "mean = x_train.mean(axis=0) # taking the mean of \n",
    "x_train -= mean\n",
    "std = x_train.std(axis=0)\n",
    "x_train /= std\n",
    "\n",
    "x_val = (x_test - mean) /std\n",
    "x_test = (x_test - mean) /std\n",
    "\n",
    "\n",
    "\n",
    "y_train= np.array(y_train.astype('float32'))\n",
    "y_val= np.array(y_train.astype('float32'))\n",
    "y_test= np.array(y_test.astype('float32'))"
   ]
  },
  {
   "cell_type": "code",
   "execution_count": 125,
   "metadata": {},
   "outputs": [],
   "source": [
    "model = tf.keras.models.Sequential([\n",
    "    tf.keras.layers.Dense(10,activation='relu',input_shape=(x_train.shape[1],)),\n",
    "    tf.keras.layers.Dense(8,activation='relu'),\n",
    "    tf.keras.layers.Dense(6,activation='relu'),       \n",
    "    tf.keras.layers.Dense(1)])### tanh hyperbolic tangent range--1 to 1  similar to sigmoid     \n",
    "model.compile(optimizer='rmsprop', loss='mse', metrics=['mae'])\n",
    "# model.compile(Adam(lr=0.8)"
   ]
  },
  {
   "cell_type": "code",
   "execution_count": 128,
   "metadata": {},
   "outputs": [
    {
     "name": "stdout",
     "output_type": "stream",
     "text": [
      "Epoch 1/100\n",
      "576/576 [==============================] - 1s 882us/step - loss: 491.0942 - mae: 17.3418\n",
      "Epoch 2/100\n",
      "576/576 [==============================] - 0s 796us/step - loss: 238.1959 - mae: 12.4046\n",
      "Epoch 3/100\n",
      "576/576 [==============================] - 1s 872us/step - loss: 181.5916 - mae: 10.8478\n",
      "Epoch 4/100\n",
      "576/576 [==============================] - 1s 883us/step - loss: 167.8376 - mae: 10.3501\n",
      "Epoch 5/100\n",
      "576/576 [==============================] - 1s 870us/step - loss: 161.5687 - mae: 10.0316\n",
      "Epoch 6/100\n",
      "576/576 [==============================] - 1s 925us/step - loss: 159.8363 - mae: 9.8353\n",
      "Epoch 7/100\n",
      "576/576 [==============================] - 0s 780us/step - loss: 157.1874 - mae: 9.7767\n",
      "Epoch 8/100\n",
      "576/576 [==============================] - 0s 742us/step - loss: 153.5945 - mae: 9.6231\n",
      "Epoch 9/100\n",
      "576/576 [==============================] - 0s 735us/step - loss: 152.7872 - mae: 9.5269\n",
      "Epoch 10/100\n",
      "576/576 [==============================] - 0s 770us/step - loss: 147.4950 - mae: 9.4301\n",
      "Epoch 11/100\n",
      "576/576 [==============================] - 0s 736us/step - loss: 146.7131 - mae: 9.3191\n",
      "Epoch 12/100\n",
      "576/576 [==============================] - 0s 751us/step - loss: 143.5738 - mae: 9.2090\n",
      "Epoch 13/100\n",
      "576/576 [==============================] - 0s 743us/step - loss: 140.4046 - mae: 9.2287\n",
      "Epoch 14/100\n",
      "576/576 [==============================] - 0s 746us/step - loss: 138.6612 - mae: 9.1474\n",
      "Epoch 15/100\n",
      "576/576 [==============================] - 0s 751us/step - loss: 141.3984 - mae: 9.0715\n",
      "Epoch 16/100\n",
      "576/576 [==============================] - 0s 752us/step - loss: 137.5423 - mae: 9.0362\n",
      "Epoch 17/100\n",
      "576/576 [==============================] - 0s 744us/step - loss: 136.8970 - mae: 8.8972\n",
      "Epoch 18/100\n",
      "576/576 [==============================] - 0s 758us/step - loss: 132.5878 - mae: 8.9099\n",
      "Epoch 19/100\n",
      "576/576 [==============================] - 0s 642us/step - loss: 133.2837 - mae: 8.8289\n",
      "Epoch 20/100\n",
      "576/576 [==============================] - 0s 629us/step - loss: 129.6042 - mae: 8.7210\n",
      "Epoch 21/100\n",
      "576/576 [==============================] - 0s 632us/step - loss: 132.7858 - mae: 8.7095\n",
      "Epoch 22/100\n",
      "576/576 [==============================] - 0s 627us/step - loss: 133.0208 - mae: 8.7586\n",
      "Epoch 23/100\n",
      "576/576 [==============================] - 0s 615us/step - loss: 130.3510 - mae: 8.6698\n",
      "Epoch 24/100\n",
      "576/576 [==============================] - 0s 629us/step - loss: 128.5381 - mae: 8.6773\n",
      "Epoch 25/100\n",
      "576/576 [==============================] - 0s 622us/step - loss: 131.4263 - mae: 8.6192\n",
      "Epoch 26/100\n",
      "576/576 [==============================] - 0s 626us/step - loss: 127.4218 - mae: 8.6353\n",
      "Epoch 27/100\n",
      "576/576 [==============================] - 0s 623us/step - loss: 129.2886 - mae: 8.5962\n",
      "Epoch 28/100\n",
      "576/576 [==============================] - 0s 629us/step - loss: 130.5572 - mae: 8.5773\n",
      "Epoch 29/100\n",
      "576/576 [==============================] - 0s 631us/step - loss: 130.6538 - mae: 8.5694\n",
      "Epoch 30/100\n",
      "576/576 [==============================] - 0s 620us/step - loss: 130.2242 - mae: 8.5284\n",
      "Epoch 31/100\n",
      "576/576 [==============================] - 0s 627us/step - loss: 126.7002 - mae: 8.5125\n",
      "Epoch 32/100\n",
      "576/576 [==============================] - 0s 560us/step - loss: 128.3536 - mae: 8.5186\n",
      "Epoch 33/100\n",
      "576/576 [==============================] - 0s 549us/step - loss: 126.6077 - mae: 8.5260\n",
      "Epoch 34/100\n",
      "576/576 [==============================] - 0s 548us/step - loss: 126.4479 - mae: 8.4958\n",
      "Epoch 35/100\n",
      "576/576 [==============================] - 0s 547us/step - loss: 126.6451 - mae: 8.4662\n",
      "Epoch 36/100\n",
      "576/576 [==============================] - 0s 546us/step - loss: 124.0126 - mae: 8.4761\n",
      "Epoch 37/100\n",
      "576/576 [==============================] - 0s 596us/step - loss: 119.8785 - mae: 8.4359\n",
      "Epoch 38/100\n",
      "576/576 [==============================] - 0s 606us/step - loss: 123.8075 - mae: 8.3998\n",
      "Epoch 39/100\n",
      "576/576 [==============================] - 0s 597us/step - loss: 121.2886 - mae: 8.3061\n",
      "Epoch 40/100\n",
      "576/576 [==============================] - 0s 627us/step - loss: 121.4764 - mae: 8.2607\n",
      "Epoch 41/100\n",
      "576/576 [==============================] - 0s 638us/step - loss: 121.5284 - mae: 8.2127\n",
      "Epoch 42/100\n",
      "576/576 [==============================] - 0s 694us/step - loss: 119.4719 - mae: 8.2060\n",
      "Epoch 43/100\n",
      "576/576 [==============================] - 0s 667us/step - loss: 116.6079 - mae: 8.0633\n",
      "Epoch 44/100\n",
      "576/576 [==============================] - 1s 1ms/step - loss: 111.9561 - mae: 8.0612\n",
      "Epoch 45/100\n",
      "576/576 [==============================] - 1s 951us/step - loss: 110.2696 - mae: 7.9326\n",
      "Epoch 46/100\n",
      "576/576 [==============================] - 1s 1ms/step - loss: 113.4792 - mae: 7.9899\n",
      "Epoch 47/100\n",
      "576/576 [==============================] - 0s 757us/step - loss: 110.9451 - mae: 7.9385\n",
      "Epoch 48/100\n",
      "576/576 [==============================] - 0s 741us/step - loss: 106.9874 - mae: 7.8188\n",
      "Epoch 49/100\n",
      "576/576 [==============================] - 0s 739us/step - loss: 104.5102 - mae: 7.7686\n",
      "Epoch 50/100\n",
      "576/576 [==============================] - 0s 729us/step - loss: 103.5840 - mae: 7.6871\n",
      "Epoch 51/100\n",
      "576/576 [==============================] - 0s 747us/step - loss: 99.8006 - mae: 7.5709\n",
      "Epoch 52/100\n",
      "576/576 [==============================] - 0s 757us/step - loss: 98.1267 - mae: 7.4901\n",
      "Epoch 53/100\n",
      "576/576 [==============================] - 0s 651us/step - loss: 96.8418 - mae: 7.4176\n",
      "Epoch 54/100\n",
      "576/576 [==============================] - 0s 642us/step - loss: 95.3589 - mae: 7.4045\n",
      "Epoch 55/100\n",
      "576/576 [==============================] - 0s 642us/step - loss: 93.3474 - mae: 7.3015\n",
      "Epoch 56/100\n",
      "576/576 [==============================] - 0s 731us/step - loss: 92.1181 - mae: 7.2477\n",
      "Epoch 57/100\n",
      "576/576 [==============================] - 0s 755us/step - loss: 89.4089 - mae: 7.2382\n",
      "Epoch 58/100\n",
      "576/576 [==============================] - 1s 1ms/step - loss: 88.1469 - mae: 7.1775\n",
      "Epoch 59/100\n",
      "576/576 [==============================] - 1s 1ms/step - loss: 85.9154 - mae: 7.0824\n",
      "Epoch 60/100\n",
      "576/576 [==============================] - 0s 751us/step - loss: 84.7333 - mae: 7.0817\n",
      "Epoch 61/100\n",
      "576/576 [==============================] - 0s 853us/step - loss: 84.2075 - mae: 6.9917\n",
      "Epoch 62/100\n",
      "576/576 [==============================] - 0s 675us/step - loss: 82.0637 - mae: 6.9803\n",
      "Epoch 63/100\n",
      "576/576 [==============================] - 0s 592us/step - loss: 81.8606 - mae: 6.9178\n",
      "Epoch 64/100\n",
      "576/576 [==============================] - 0s 639us/step - loss: 78.8214 - mae: 6.8156\n",
      "Epoch 65/100\n",
      "576/576 [==============================] - 0s 610us/step - loss: 78.5863 - mae: 6.8295\n",
      "Epoch 66/100\n",
      "576/576 [==============================] - 0s 717us/step - loss: 78.9313 - mae: 6.8384\n",
      "Epoch 67/100\n",
      "576/576 [==============================] - 1s 882us/step - loss: 77.4807 - mae: 6.7937\n",
      "Epoch 68/100\n",
      "576/576 [==============================] - 0s 797us/step - loss: 75.8080 - mae: 6.7288\n",
      "Epoch 69/100\n",
      "576/576 [==============================] - 0s 725us/step - loss: 76.2357 - mae: 6.7087\n",
      "Epoch 70/100\n",
      "576/576 [==============================] - 0s 783us/step - loss: 75.2054 - mae: 6.7018\n",
      "Epoch 71/100\n",
      "576/576 [==============================] - 0s 833us/step - loss: 73.7894 - mae: 6.6207\n",
      "Epoch 72/100\n",
      "576/576 [==============================] - 0s 620us/step - loss: 73.7193 - mae: 6.5967\n",
      "Epoch 73/100\n",
      "576/576 [==============================] - 0s 602us/step - loss: 72.9879 - mae: 6.6140\n",
      "Epoch 74/100\n",
      "576/576 [==============================] - 0s 549us/step - loss: 70.6660 - mae: 6.4707\n",
      "Epoch 75/100\n",
      "576/576 [==============================] - 0s 546us/step - loss: 70.3338 - mae: 6.5020\n",
      "Epoch 76/100\n",
      "576/576 [==============================] - 0s 549us/step - loss: 69.1699 - mae: 6.4636\n",
      "Epoch 77/100\n",
      "576/576 [==============================] - 0s 641us/step - loss: 67.9564 - mae: 6.4041\n",
      "Epoch 78/100\n",
      "576/576 [==============================] - 0s 711us/step - loss: 67.5214 - mae: 6.3850\n",
      "Epoch 79/100\n",
      "576/576 [==============================] - 0s 658us/step - loss: 66.3500 - mae: 6.2830\n",
      "Epoch 80/100\n",
      "576/576 [==============================] - 0s 655us/step - loss: 65.5289 - mae: 6.2320\n",
      "Epoch 81/100\n",
      "576/576 [==============================] - 0s 667us/step - loss: 64.2931 - mae: 6.1347\n",
      "Epoch 82/100\n"
     ]
    },
    {
     "name": "stdout",
     "output_type": "stream",
     "text": [
      "576/576 [==============================] - 1s 919us/step - loss: 62.1482 - mae: 6.1090\n",
      "Epoch 83/100\n",
      "576/576 [==============================] - 0s 715us/step - loss: 61.2376 - mae: 6.0067\n",
      "Epoch 84/100\n",
      "576/576 [==============================] - 0s 711us/step - loss: 60.6731 - mae: 6.0217\n",
      "Epoch 85/100\n",
      "576/576 [==============================] - 0s 687us/step - loss: 59.1969 - mae: 5.9211\n",
      "Epoch 86/100\n",
      "576/576 [==============================] - 0s 721us/step - loss: 58.3889 - mae: 5.8939\n",
      "Epoch 87/100\n",
      "576/576 [==============================] - 0s 724us/step - loss: 57.3988 - mae: 5.7459\n",
      "Epoch 88/100\n",
      "576/576 [==============================] - 0s 812us/step - loss: 56.0145 - mae: 5.7702\n",
      "Epoch 89/100\n",
      "576/576 [==============================] - 0s 613us/step - loss: 55.2028 - mae: 5.6641\n",
      "Epoch 90/100\n",
      "576/576 [==============================] - 0s 637us/step - loss: 54.4811 - mae: 5.6741\n",
      "Epoch 91/100\n",
      "576/576 [==============================] - 1s 964us/step - loss: 53.8157 - mae: 5.5456\n",
      "Epoch 92/100\n",
      "576/576 [==============================] - 0s 826us/step - loss: 53.2751 - mae: 5.5769\n",
      "Epoch 93/100\n",
      "576/576 [==============================] - 0s 803us/step - loss: 53.0864 - mae: 5.5510\n",
      "Epoch 94/100\n",
      "576/576 [==============================] - 0s 838us/step - loss: 52.6869 - mae: 5.4757\n",
      "Epoch 95/100\n",
      "576/576 [==============================] - 0s 810us/step - loss: 52.6908 - mae: 5.4722\n",
      "Epoch 96/100\n",
      "576/576 [==============================] - 0s 822us/step - loss: 51.1596 - mae: 5.4366\n",
      "Epoch 97/100\n",
      "576/576 [==============================] - 0s 825us/step - loss: 50.4000 - mae: 5.3775\n",
      "Epoch 98/100\n",
      "576/576 [==============================] - 1s 1ms/step - loss: 51.0532 - mae: 5.4198\n",
      "Epoch 99/100\n",
      "576/576 [==============================] - 1s 910us/step - loss: 50.5289 - mae: 5.3529\n",
      "Epoch 100/100\n",
      "576/576 [==============================] - 1s 971us/step - loss: 50.1382 - mae: 5.3073\n"
     ]
    }
   ],
   "source": [
    "history = model.fit(x_train, y_train,batch_size=1,epochs=100)\n",
    "#                     validation_data=(x_val, y_val))\n"
   ]
  },
  {
   "cell_type": "code",
   "execution_count": 129,
   "metadata": {},
   "outputs": [],
   "source": [
    "test_mse, test_mae = model.evaluate(x_test, y_test, verbose=0)"
   ]
  },
  {
   "cell_type": "code",
   "execution_count": 130,
   "metadata": {},
   "outputs": [
    {
     "name": "stdout",
     "output_type": "stream",
     "text": [
      "mean-square-error 51.25798797607422\n",
      "\n",
      "mean-absolue-error 5.43641471862793\n"
     ]
    }
   ],
   "source": [
    "print('mean-square-error',test_mse)\n",
    "print()\n",
    "print('mean-absolue-error',test_mae)"
   ]
  },
  {
   "cell_type": "code",
   "execution_count": 140,
   "metadata": {},
   "outputs": [
    {
     "data": {
      "text/plain": [
       "dict_keys(['loss', 'mae'])"
      ]
     },
     "execution_count": 140,
     "metadata": {},
     "output_type": "execute_result"
    }
   ],
   "source": [
    "history_dict.keys()"
   ]
  },
  {
   "cell_type": "code",
   "execution_count": 142,
   "metadata": {},
   "outputs": [
    {
     "data": {
      "image/png": "[encoded data removed]",
      "text/plain": [
       "<Figure size 432x288 with 1 Axes>"
      ]
     },
     "metadata": {
      "needs_background": "light"
     },
     "output_type": "display_data"
    }
   ],
   "source": [
    "import matplotlib.pyplot as plt\n",
    "history_dict = history.history\n",
    "\n",
    "val = history_dict['loss']\n",
    "val2 = history_dict['mae']\n",
    "\n",
    "epochs = range(1, len(val) + 1)\n",
    "plt.plot(epochs, val, 'bo', label='loss')\n",
    "plt.plot(epochs, val2, 'b', label='mae')\n",
    "plt.legend()\n",
    "plt.show()"
   ]
  },
  {
   "cell_type": "code",
   "execution_count": 143,
   "metadata": {},
   "outputs": [],
   "source": [
    "# predicting the test set results\n",
    "y_pred = model.predict(x_test)"
   ]
  },
  {
   "cell_type": "code",
   "execution_count": 144,
   "metadata": {},
   "outputs": [
    {
     "data": {
      "text/plain": [
       "array([[67.240715],\n",
       "       [21.94518 ],\n",
       "       [38.756233],\n",
       "       [13.338224],\n",
       "       [21.68167 ],\n",
       "       [46.192055],\n",
       "       [42.527824],\n",
       "       [29.050596],\n",
       "       [28.805578]], dtype=float32)"
      ]
     },
     "execution_count": 144,
     "metadata": {},
     "output_type": "execute_result"
    }
   ],
   "source": [
    "y_pred[:9]"
   ]
  },
  {
   "cell_type": "code",
   "execution_count": 145,
   "metadata": {},
   "outputs": [
    {
     "data": {
      "text/plain": [
       "array([[54.77],\n",
       "       [24.5 ],\n",
       "       [47.03],\n",
       "       [ 9.85],\n",
       "       [ 6.27],\n",
       "       [45.84],\n",
       "       [43.5 ],\n",
       "       [23.25],\n",
       "       [38.6 ]], dtype=float32)"
      ]
     },
     "execution_count": 145,
     "metadata": {},
     "output_type": "execute_result"
    }
   ],
   "source": [
    "y_test[:9]"
   ]
  },
  {
   "cell_type": "code",
   "execution_count": null,
   "metadata": {},
   "outputs": [],
   "source": []
  }
 ],
 "metadata": {
  "kernelspec": {
   "display_name": "Python 3",
   "language": "python",
   "name": "python3"
  },
  "language_info": {
   "codemirror_mode": {
    "name": "ipython",
    "version": 3
   },
   "file_extension": ".py",
   "mimetype": "text/x-python",
   "name": "python",
   "nbconvert_exporter": "python",
   "pygments_lexer": "ipython3",
   "version": "3.8.5"
  }
 },
 "nbformat": 4,
 "nbformat_minor": 2
}
